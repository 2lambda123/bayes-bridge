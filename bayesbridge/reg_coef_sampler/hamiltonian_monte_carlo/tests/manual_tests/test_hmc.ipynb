{
 "cells": [
  {
   "cell_type": "code",
   "execution_count": null,
   "metadata": {},
   "outputs": [],
   "source": [
    "import numpy as np\n",
    "import matplotlib.pyplot as plt\n",
    "%matplotlib inline"
   ]
  },
  {
   "cell_type": "code",
   "execution_count": null,
   "metadata": {},
   "outputs": [],
   "source": [
    "import sys\n",
    "sys.path.append('..')\n",
    "sys.path.append('../..')\n",
    "\n",
    "import bayesbridge.reg_coef_sampler.hamiltonian_monte_carlo as hmc\n",
    "from tests.distributions import BivariateGaussian, BivariateSkewNormal"
   ]
  },
  {
   "cell_type": "markdown",
   "metadata": {},
   "source": [
    "## Run HMC on a bivariate Gaussian target."
   ]
  },
  {
   "cell_type": "code",
   "execution_count": null,
   "metadata": {},
   "outputs": [],
   "source": [
    "bivariate_gauss = BivariateGaussian(rho=.9, sigma=np.array([1., 2.]))\n",
    "pc_var, _ = bivariate_gauss.get_principal_components()\n",
    "pc_scale = np.sqrt(pc_var)\n",
    "\n",
    "# Choose near-optimal stepsize and integration time.\n",
    "dt = np.array([.7, .8]) * 2. * np.min(pc_scale)\n",
    "n_step = np.ceil(\n",
    "    np.array([.8, 1.]) * np.max(pc_scale) / np.max(dt)\n",
    ")\n",
    "\n",
    "n_burnin = 10\n",
    "n_sample = 10 ** 5\n",
    "\n",
    "theta0 = np.zeros(2)\n",
    "f = bivariate_gauss.compute_logp_and_gradient\n",
    "samples, logp_samples, accept_prob, time_elapsed \\\n",
    "    = hmc.generate_samples(f, theta0, dt, n_step, n_burnin, n_sample)"
   ]
  },
  {
   "cell_type": "code",
   "execution_count": null,
   "metadata": {},
   "outputs": [],
   "source": [
    "plt.figure(figsize=(14, 10))\n",
    "plt.rcParams['font.size'] = 20\n",
    "\n",
    "bins = [\n",
    "    bivariate_gauss.sigma[0] * np.linspace(-4, 4, 51),\n",
    "    bivariate_gauss.sigma[1] * np.linspace(-4, 4, 51)\n",
    "]\n",
    "marginal_pdf = [\n",
    "    bivariate_gauss.compute_marginal_pdf(bins[axis], axis) for axis in [0, 1]\n",
    "]\n",
    "\n",
    "plt.subplot(2, 2, 1)\n",
    "plt.hist2d(samples[0, :], samples[1, :],\n",
    "           bins=bins, normed=1, cmap='inferno')\n",
    "plt.ylabel(r'$\\theta_2')\n",
    "plt.xlabel(r'$\\theta_1$')\n",
    "plt.colorbar(ticks=[])\n",
    "\n",
    "for axis in [0, 1]:\n",
    "    plt.subplot(2, 2, 3 - axis)\n",
    "    plt.hist(samples[axis, :], bins=bins[axis], normed=1)\n",
    "    plt.plot(bins[axis], marginal_pdf[axis])\n",
    "    plt.xlabel(r'$\\theta_{:d}$'.format(axis + 1))\n",
    "\n",
    "plt.tight_layout()\n",
    "plt.show()"
   ]
  },
  {
   "cell_type": "markdown",
   "metadata": {},
   "source": [
    "## Run HMC on a rotated 2-d skew normal.\n",
    "Gaussians have many special features that makes them particularly simple for HMC, so additional sanity check with a non-Gaussian target won't hurt."
   ]
  },
  {
   "cell_type": "code",
   "execution_count": null,
   "metadata": {},
   "outputs": [],
   "source": [
    "skewnorm = BivariateSkewNormal()\n",
    "f = skewnorm.compute_logp_and_gradient"
   ]
  },
  {
   "cell_type": "code",
   "execution_count": null,
   "metadata": {},
   "outputs": [],
   "source": [
    "dt = np.array([.25, .3])\n",
    "n_step = np.array([3, 6])\n",
    "n_burnin = 10\n",
    "n_sample = 5 * 10 ** 4\n",
    "\n",
    "theta0 = np.zeros(2)\n",
    "samples, logp_samples, accept_prob, time_elapsed \\\n",
    "    = hmc.generate_samples(f, theta0, dt, n_step, n_burnin, n_sample)"
   ]
  },
  {
   "cell_type": "code",
   "execution_count": null,
   "metadata": {},
   "outputs": [],
   "source": [
    "plt.figure(figsize=(14, 10))\n",
    "plt.rcParams['font.size'] = 20\n",
    "\n",
    "bins = [\n",
    "    np.linspace(-2, 4, 51),\n",
    "    np.linspace(-3, 3, 51)\n",
    "]\n",
    "marginal_pdf = skewnorm.compute_marginal_pdf(*bins)\n",
    "\n",
    "plt.subplot(2, 2, 1)\n",
    "plt.hist2d(samples[0, :], samples[1, :],\n",
    "           bins=bins, normed=1, cmap='inferno')\n",
    "plt.ylabel(r'$\\log_{10}(N)$')\n",
    "plt.xlabel(r'$\\log(p / (1 - p))$')\n",
    "plt.colorbar(ticks=[])\n",
    "\n",
    "for axis in [0, 1]:\n",
    "    plt.subplot(2, 2, 3 - axis)\n",
    "    plt.hist(samples[axis, :], bins=bins[axis], normed=1)\n",
    "    plt.plot(bins[axis], marginal_pdf[axis])\n",
    "    plt.xlabel(r'$\\theta_{:d}$'.format(axis + 1))\n",
    "\n",
    "plt.tight_layout()\n",
    "plt.show()"
   ]
  }
 ],
 "metadata": {
  "kernelspec": {
   "display_name": "Python 3",
   "language": "python",
   "name": "python3"
  },
  "language_info": {
   "codemirror_mode": {
    "name": "ipython",
    "version": 3
   },
   "file_extension": ".py",
   "mimetype": "text/x-python",
   "name": "python",
   "nbconvert_exporter": "python",
   "pygments_lexer": "ipython3",
   "version": "3.6.3"
  }
 },
 "nbformat": 4,
 "nbformat_minor": 1
}
