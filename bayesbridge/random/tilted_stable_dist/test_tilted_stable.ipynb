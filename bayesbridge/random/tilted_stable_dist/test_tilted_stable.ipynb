{
 "cells": [
  {
   "cell_type": "code",
   "execution_count": null,
   "metadata": {},
   "outputs": [],
   "source": [
    "import sys\n",
    "sys.path.insert(0, '../')\n",
    "\n",
    "import numpy as np\n",
    "import matplotlib.pyplot as plt\n",
    "\n",
    "from tilted_stable_dist.rand_exp_tilted_stable import ExpTiltedStableDist"
   ]
  },
  {
   "cell_type": "code",
   "execution_count": null,
   "metadata": {},
   "outputs": [],
   "source": [
    "import rpy2.robjects as robjects\n",
    "import rpy2.robjects.packages as rpackages\n",
    "\n",
    "try:\n",
    "    copula = rpackages.importr('copula')\n",
    "except:\n",
    "    utils = rpackages.importr('utils')\n",
    "    utils.install_packages('copula')\n",
    "    copula = rpackages.importr('copula')"
   ]
  },
  {
   "cell_type": "markdown",
   "metadata": {},
   "source": [
    "## Check that outputs from Cythoinized and pure Python codes agree"
   ]
  },
  {
   "cell_type": "code",
   "execution_count": null,
   "metadata": {},
   "outputs": [],
   "source": [
    "from tilted_stable_dist.py_rand_exp_tilted_stable \\\n",
    "    import ExpTiltedStableDist as PyExpTiltedStableDist"
   ]
  },
  {
   "cell_type": "code",
   "execution_count": null,
   "metadata": {},
   "outputs": [],
   "source": [
    "bridge_exponent = .25\n",
    "char_exponent = bridge_exponent / 2\n",
    "tilts = 10 ** - np.linspace(-4, 4, 101)\n",
    "seed = 0\n",
    "\n",
    "for method in ['double-rejection', 'divide-conquer']:\n",
    "\n",
    "    tilted_stable = ExpTiltedStableDist(seed)\n",
    "    cython_samples = tilted_stable.sample(\n",
    "        char_exponent, tilts, method=method\n",
    "    )\n",
    "    py_tilted_stable = PyExpTiltedStableDist(seed=0)\n",
    "    python_samples = np.array([\n",
    "        py_tilted_stable.rv(char_exponent, tilt, method=method)\n",
    "        for tilt in tilts\n",
    "    ])\n",
    "    assert np.allclose(cython_samples, python_samples, rtol=10e-12, atol=10e-12)\n",
    "\n",
    "print(\"Test passed!\")"
   ]
  },
  {
   "cell_type": "markdown",
   "metadata": {},
   "source": [
    "## Cross check Python module outputs with R package\n",
    "Generating the half-million samples via an external R call takes about 45 sec on iMac 2015."
   ]
  },
  {
   "cell_type": "code",
   "execution_count": null,
   "metadata": {},
   "outputs": [],
   "source": [
    "def comparison_hist(samples_1, samples_2, use_log_scale=False):\n",
    "    if use_log_scale:\n",
    "        samples_1 = np.log(samples_1)\n",
    "        samples_2 = np.log(samples_2)\n",
    "    x_max = max(samples_1.max(), samples_2.max())\n",
    "    x_min = min(samples_1.min(), samples_2.min())\n",
    "    bins = np.linspace(x_min, x_max, 51)\n",
    "    \n",
    "    plt.hist(samples_1, alpha=.5, bins=bins, density=True)\n",
    "    plt.hist(samples_2, alpha=.5, bins=bins, density=True)\n",
    "    for side in ['left', 'top', 'right']:\n",
    "        plt.gca().spines[side].set_visible(False)\n",
    "    plt.yticks([])"
   ]
  },
  {
   "cell_type": "code",
   "execution_count": null,
   "metadata": {},
   "outputs": [],
   "source": [
    "plt.figure(figsize=(14, 4.5))\n",
    "plt.rcParams['font.size'] = 20\n",
    "\n",
    "n_samples = 5 * 10 ** 5\n",
    "char_exponent = [1. / 32, 1. / 4]\n",
    "tilt = [.01, 100.]\n",
    "tilted_stable = ExpTiltedStableDist()\n",
    "\n",
    "for i in range(2):\n",
    "    \n",
    "    python_samples = tilted_stable.sample(\n",
    "        char_exponent[i], np.tile(tilt[i], n_samples)\n",
    "    )\n",
    "    R_samples = np.array([\n",
    "        copula.retstable(char_exponent[i], 1.0, tilt[i])[0]\n",
    "        for _ in range(n_samples)\n",
    "    ])\n",
    "    \n",
    "    plt.subplot(1, 2, i + 1)\n",
    "    comparison_hist(R_samples, python_samples, use_log_scale=True)\n",
    "    \n",
    "    plt.xlabel('log(tilted stable)')\n",
    "    if i == 0:\n",
    "        plt.legend(['from R package', 'from Python'], frameon=False)\n",
    "\n",
    "plt.show()"
   ]
  }
 ],
 "metadata": {
  "kernelspec": {
   "display_name": "Python 3",
   "language": "python",
   "name": "python3"
  },
  "language_info": {
   "codemirror_mode": {
    "name": "ipython",
    "version": 3
   },
   "file_extension": ".py",
   "mimetype": "text/x-python",
   "name": "python",
   "nbconvert_exporter": "python",
   "pygments_lexer": "ipython3",
   "version": "3.6.10"
  }
 },
 "nbformat": 4,
 "nbformat_minor": 4
}
