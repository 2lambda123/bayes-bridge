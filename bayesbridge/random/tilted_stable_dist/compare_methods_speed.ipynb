{
 "cells": [
  {
   "cell_type": "code",
   "execution_count": null,
   "metadata": {},
   "outputs": [],
   "source": [
    "import sys\n",
    "sys.path.insert(0, '../')\n",
    "\n",
    "import time\n",
    "import numpy as np\n",
    "import matplotlib.pyplot as plt\n",
    "from rand_exp_tilted_stable import ExpTiltedStableDist"
   ]
  },
  {
   "cell_type": "markdown",
   "metadata": {},
   "source": [
    "## Specify the range of parameters to run the samplers"
   ]
  },
  {
   "cell_type": "code",
   "execution_count": null,
   "metadata": {},
   "outputs": [],
   "source": [
    "bridge_exponent = 1. / 16\n",
    "divide_conquer_cost = 10 ** np.linspace(-1., 1., 101)\n",
    "\n",
    "char_exponent = bridge_exponent / 2\n",
    "tilt = divide_conquer_cost ** (1. / char_exponent)\n",
    "# For Bayesian bridge, tilt parameter is given by beta / global_scale\n",
    "tilt_power = tilt ** char_exponent"
   ]
  },
  {
   "cell_type": "markdown",
   "metadata": {},
   "source": [
    "## Time the samplers at given parameter values"
   ]
  },
  {
   "cell_type": "code",
   "execution_count": null,
   "metadata": {},
   "outputs": [],
   "source": [
    "tilted_stable = ExpTiltedStableDist(seed=0)\n",
    "\n",
    "def time_method(char_exponent, tilt, method, n_rep=1000):\n",
    "    start = time.time()\n",
    "    tilted_stable.sample(\n",
    "        char_exponent * np.ones(n_rep), tilt * np.ones(n_rep), \n",
    "        method=method\n",
    "    );\n",
    "    elapsed = time.time() - start\n",
    "    return elapsed"
   ]
  },
  {
   "cell_type": "code",
   "execution_count": null,
   "metadata": {},
   "outputs": [],
   "source": [
    "n_repetition = 1000\n",
    "\n",
    "exec_time = {\n",
    "    method: \n",
    "        np.array([\n",
    "            time_method(char_exponent, tilt_i, method, n_repetition)\n",
    "            for tilt_i in tilt\n",
    "        ]) \n",
    "    for method in ['double-rejection', 'divide-conquer']\n",
    "}"
   ]
  },
  {
   "cell_type": "markdown",
   "metadata": {},
   "source": [
    "## Plot the result"
   ]
  },
  {
   "cell_type": "code",
   "execution_count": null,
   "metadata": {},
   "outputs": [],
   "source": [
    "plt.figure(figsize=(7, 4.5))\n",
    "plt.rcParams['font.size'] = 18\n",
    "\n",
    "for method in ['double-rejection', 'divide-conquer']:\n",
    "    plt.plot(tilt_power, exec_time[method] / n_repetition)\n",
    "plt.xlabel('Cost of divide-conquer (= tilt ^ char-exponent)')\n",
    "plt.ylabel('Sec. per sample')\n",
    "plt.ticklabel_format(axis='y', scilimits=(0,0))\n",
    "plt.ylim(bottom=0)\n",
    "\n",
    "for side in ['top', 'right']:\n",
    "    plt.gca().spines[side].set_visible(False)"
   ]
  }
 ],
 "metadata": {
  "kernelspec": {
   "display_name": "Python 3",
   "language": "python",
   "name": "python3"
  },
  "language_info": {
   "codemirror_mode": {
    "name": "ipython",
    "version": 3
   },
   "file_extension": ".py",
   "mimetype": "text/x-python",
   "name": "python",
   "nbconvert_exporter": "python",
   "pygments_lexer": "ipython3",
   "version": "3.7.7"
  }
 },
 "nbformat": 4,
 "nbformat_minor": 4
}
